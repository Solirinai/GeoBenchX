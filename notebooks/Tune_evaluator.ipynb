{
 "cells": [
  {
   "cell_type": "markdown",
   "id": "62f362ff",
   "metadata": {},
   "source": [
    "## Tuning of the evaluator\n",
    "\n",
    "The purpose of this notebook is to evaluate how close are evaluations of LLM generated solutions between Human and LLM.\n",
    "\n",
    "* It allows to create a tuning set by selecting random tasks from the whole benchmark set.\n",
    "* It contains code for comparing the match scores given to the LLM generated solutions by human and LLM by using confusion matrix\n",
    "\n",
    "If the difference is too high, the adjustments to the prompt in the evaluation.py file might be needed. The notebook contains code to facilitate analysis of cases where the match scores differed. \n",
    "\n",
    "When ready, the evaluator code is used in the \"Benchmarking\" notebook."
   ]
  },
  {
   "cell_type": "markdown",
   "id": "03d04808-9c73-4fa9-8aaf-c13cebc76b14",
   "metadata": {},
   "source": [
    "##### Imports"
   ]
  },
  {
   "cell_type": "code",
   "execution_count": 13,
   "id": "280b9822-8b42-42c6-93f5-e7da4bccca04",
   "metadata": {},
   "outputs": [],
   "source": [
    "# !pip install -r requirements.txt"
   ]
  },
  {
   "cell_type": "code",
   "execution_count": 1,
   "id": "f19c5d8f-fc6a-411d-bce2-b0c054c66f04",
   "metadata": {},
   "outputs": [],
   "source": [
    "import os, sys\n",
    "import json\n",
    "import zipfile\n",
    "import pandas as pd\n",
    "import geopandas as gpd\n",
    "import matplotlib.pyplot as plt\n",
    "from matplotlib.ticker import FuncFormatter\n",
    "from io import StringIO\n",
    "import importlib\n",
    "from collections import defaultdict\n",
    "import random\n",
    "from pprint import pprint, pformat, PrettyPrinter\n",
    "import re\n",
    "from tqdm import tqdm"
   ]
  },
  {
   "cell_type": "code",
   "execution_count": null,
   "id": "b99ae8a5-f37b-49c5-9b2d-43aff9de918c",
   "metadata": {},
   "outputs": [],
   "source": [
    "from geobenchx.constants import DATA_FOLDER, RESULTS_FOLDER, MODEL_CLAUDE, MODEL_GEMINI_ADV, MODEL_GPT, MODEL_GPT_mini, MODEL_O, MODEL_CLAUDE_ADV\n",
    "import geobenchx.dataclasses\n",
    "importlib.reload(geobenchx.dataclasses)\n",
    "from geobenchx.dataclasses import TaskSet, Task, Solution\n",
    "\n",
    "import geobenchx.utils\n",
    "importlib.reload(geobenchx.utils)\n",
    "from geobenchx.utils import generate_timestamp_id, get_dataframe_info, get_solution_code\n",
    "\n",
    "\n",
    "import geobenchx.agent\n",
    "importlib.reload(geobenchx.agent)\n",
    "from geobenchx.agent import execute_task\n",
    "\n",
    "import geobenchx.evaluation\n",
    "importlib.reload(geobenchx.evaluation)\n",
    "from geobenchx.evaluation import score_task_solution, generate_eval_stats_evaluator, score_solutions_set"
   ]
  },
  {
   "cell_type": "markdown",
   "id": "b56b79b2-7988-4d30-8963-e37218b61822",
   "metadata": {},
   "source": [
    "#### Selecting random tasks for annotation"
   ]
  },
  {
   "cell_type": "code",
   "execution_count": 4,
   "id": "be60dc54",
   "metadata": {},
   "outputs": [],
   "source": [
    "source_tasks = 'tasks_and_reference_solutions.json' # name of file with tasks and reference solutions (ground truth solutions)"
   ]
  },
  {
   "cell_type": "code",
   "execution_count": 3,
   "id": "8c780dd4",
   "metadata": {},
   "outputs": [],
   "source": [
    "tuning_tasks_filename = 'evaluator_tuning_set.json' # name for file with tasks with references solution, candidate solution and manual match score"
   ]
  },
  {
   "cell_type": "code",
   "execution_count": 4,
   "id": "5abd27e8-3ae7-44bc-b58d-1a62b825e3c4",
   "metadata": {},
   "outputs": [],
   "source": [
    "# Selecting the tasks from 'source_tasks' for the evaluator tuning set or reading them from already exsisting file with tuning tasks set\n",
    "\n",
    "if os.path.exists(os.path.join(DATA_FOLDER, tuning_tasks_filename)): \n",
    "    evaluator_tuning_tasks = TaskSet.read_from_file(tuning_tasks_filename, DATA_FOLDER)   \n",
    "else:\n",
    "    tasks = TaskSet.read_from_file(source_tasks, DATA_FOLDER)\n",
    "    evaluator_tuning_tasks = tasks.sample_stratified(40)"
   ]
  },
  {
   "cell_type": "code",
   "execution_count": 5,
   "id": "4b4feb0b",
   "metadata": {},
   "outputs": [
    {
     "name": "stdout",
     "output_type": "stream",
     "text": [
      "50\n"
     ]
    },
    {
     "data": {
      "text/plain": [
       "{<TaskLabels.MERGE_VISUALIZE: 'Merge, Visualize'>: 8,\n",
       " <TaskLabels.TASK_SET_01: 'Task Set 01'>: 8,\n",
       " <TaskLabels.SPATIAL_OPERATIONS: 'Spatial operations'>: 16,\n",
       " <TaskLabels.TASK_SET_03: 'Task Set 03'>: 16,\n",
       " <TaskLabels.VAGUE: 'Vague'>: 4,\n",
       " <TaskLabels.HEATMAPS_CONTOUR_LINES: 'Heatmaps, Contour Lines'>: 14,\n",
       " <TaskLabels.TASK_SET_04: 'Task Set 04'>: 14,\n",
       " <TaskLabels.PROCESS_MERGE_VISUALIZE: 'Process, Merge, Visualize'>: 12,\n",
       " <TaskLabels.TASK_SET_02: 'Task Set 02'>: 12,\n",
       " <TaskLabels.HARD: 'Hard'>: 1}"
      ]
     },
     "execution_count": 5,
     "metadata": {},
     "output_type": "execute_result"
    }
   ],
   "source": [
    "# Checking the size of the tuning set and its composition by types of the selected tasks\n",
    "\n",
    "print(len(evaluator_tuning_tasks))\n",
    "evaluator_tuning_tasks.get_labels_counts()"
   ]
  },
  {
   "cell_type": "code",
   "execution_count": null,
   "id": "4f650342",
   "metadata": {},
   "outputs": [],
   "source": [
    "# saving the tuning set for evaluation if needed\n",
    "\n",
    "evaluator_tuning_tasks.save_to_file(tuning_tasks_filename, DATA_FOLDER)"
   ]
  },
  {
   "cell_type": "markdown",
   "id": "04104aeb",
   "metadata": {},
   "source": [
    "### Attention!"
   ]
  },
  {
   "cell_type": "markdown",
   "id": "01b7bb6f",
   "metadata": {},
   "source": [
    "In the evaluator_tuning_set.json file in the repository, the LLM solutions are already generated. \n",
    "\n",
    "If a new file generated using the above part of the notebook:\n",
    "1. Proceed with generating solutions by an LLM of choice and, \n",
    "2. Score it manually, by comparing the reference and candidate solutions using GUI by running tasks_editor or direclty in the json file, by inputting match score and match resoning under the keys \"match_reasoning_Human\" (optional) and \"match_score_Human\" (required) in the new file."
   ]
  },
  {
   "cell_type": "markdown",
   "id": "eeed7c4b-6b27-46a3-bac2-07e7f2839c03",
   "metadata": {},
   "source": [
    "### Evaluate solutions in the tuning set"
   ]
  },
  {
   "cell_type": "markdown",
   "id": "0a36b4a1",
   "metadata": {},
   "source": [
    "The LLM scores will be saved directly in the tuning tasks file. \n",
    "\n",
    "After scoring the set with an LLM, proceed to the next part of the notebook to calculate how close the LLM's evaluations are to the human scores.\n",
    "\n",
    "Repeat for any LLM you plan to use for evaluations."
   ]
  },
  {
   "cell_type": "code",
   "execution_count": 10,
   "id": "5adee585",
   "metadata": {},
   "outputs": [],
   "source": [
    "# Select the model to generate the solutions\n",
    "\n",
    "model = MODEL_CLAUDE\n",
    "\n",
    "# Default temperature for evaluation of tasks is 0, to change temperature use line below. For OpenAI's o3-mini, use temperature = None\n",
    "\n",
    "# temperature = \n"
   ]
  },
  {
   "cell_type": "code",
   "execution_count": 11,
   "id": "faa7304a",
   "metadata": {},
   "outputs": [
    {
     "data": {
      "text/plain": [
       "'claude-3-5-sonnet-20241022'"
      ]
     },
     "execution_count": 11,
     "metadata": {},
     "output_type": "execute_result"
    }
   ],
   "source": [
    "model"
   ]
  },
  {
   "cell_type": "code",
   "execution_count": 12,
   "id": "f88fd196",
   "metadata": {},
   "outputs": [
    {
     "name": "stderr",
     "output_type": "stream",
     "text": [
      "  0%|          | 0/50 [00:00<?, ?it/s]"
     ]
    },
    {
     "name": "stdout",
     "output_type": "stream",
     "text": [
      "Task ID: TASK_250309_135125_530802\n",
      "Task text: Map agricultural GDP contribution by region.\n"
     ]
    },
    {
     "name": "stderr",
     "output_type": "stream",
     "text": [
      "  2%|▏         | 1/50 [00:08<06:59,  8.57s/it]"
     ]
    },
    {
     "name": "stdout",
     "output_type": "stream",
     "text": [
      "Matching score: 1\n",
      "input tokens: 17639, output tokens: 394\n",
      "Task ID: TASK_250309_135125_315340\n",
      "Task text: Map air quality index for major cities in South Asia?\n"
     ]
    },
    {
     "name": "stderr",
     "output_type": "stream",
     "text": [
      "  4%|▍         | 2/50 [00:19<08:04, 10.09s/it]"
     ]
    },
    {
     "name": "stdout",
     "output_type": "stream",
     "text": [
      "Matching score: 2\n",
      "input tokens: 17290, output tokens: 303\n",
      "Task ID: TASK_250309_135125_310610\n",
      "Task text: What is the total length of railways within areas that received more than 3 feet of snow this season in the USA?\n"
     ]
    },
    {
     "name": "stderr",
     "output_type": "stream",
     "text": [
      "  6%|▌         | 3/50 [00:32<08:50, 11.30s/it]"
     ]
    },
    {
     "name": "stdout",
     "output_type": "stream",
     "text": [
      "Matching score: 1\n",
      "input tokens: 18431, output tokens: 479\n",
      "Task ID: TASK_250309_135125_367674\n",
      "Task text: Make a heatmap showing population concentration in earthquake-affected zones\n"
     ]
    },
    {
     "name": "stderr",
     "output_type": "stream",
     "text": [
      "  8%|▊         | 4/50 [00:43<08:37, 11.25s/it]"
     ]
    },
    {
     "name": "stdout",
     "output_type": "stream",
     "text": [
      "Matching score: 0\n",
      "input tokens: 17652, output tokens: 405\n",
      "Task ID: TASK_250309_135125_914148\n",
      "Task text: Visualize agricultural contribution to GDP worldwide.\n"
     ]
    },
    {
     "name": "stderr",
     "output_type": "stream",
     "text": [
      " 10%|█         | 5/50 [00:52<07:53, 10.52s/it]"
     ]
    },
    {
     "name": "stdout",
     "output_type": "stream",
     "text": [
      "Matching score: 1\n",
      "input tokens: 17573, output tokens: 400\n",
      "Task ID: TASK_250309_135125_397320\n",
      "Task text: Generate a heatmap of population density around African mineral extraction sites\n"
     ]
    },
    {
     "name": "stderr",
     "output_type": "stream",
     "text": [
      " 12%|█▏        | 6/50 [01:02<07:31, 10.26s/it]"
     ]
    },
    {
     "name": "stdout",
     "output_type": "stream",
     "text": [
      "Matching score: 0\n",
      "input tokens: 17401, output tokens: 386\n",
      "Task ID: TASK_250309_135125_170096\n",
      "Task text: Show population density patterns across regions.\n"
     ]
    },
    {
     "name": "stderr",
     "output_type": "stream",
     "text": [
      " 14%|█▍        | 7/50 [01:16<08:13, 11.48s/it]"
     ]
    },
    {
     "name": "stdout",
     "output_type": "stream",
     "text": [
      "Matching score: 0\n",
      "input tokens: 17491, output tokens: 405\n",
      "Task ID: TASK_250309_135125_251255\n",
      "Task text: Make contour lines of snow accumulation for areas with railway stations in the USA\n"
     ]
    },
    {
     "name": "stderr",
     "output_type": "stream",
     "text": [
      " 16%|█▌        | 8/50 [01:25<07:33, 10.79s/it]"
     ]
    },
    {
     "name": "stdout",
     "output_type": "stream",
     "text": [
      "Matching score: 2\n",
      "input tokens: 17954, output tokens: 419\n",
      "Task ID: TASK_250309_135125_488600\n",
      "Task text: Create a heatmap showing population density near earthquake epicenters\n"
     ]
    },
    {
     "name": "stderr",
     "output_type": "stream",
     "text": [
      " 18%|█▊        | 9/50 [01:36<07:14, 10.60s/it]"
     ]
    },
    {
     "name": "stdout",
     "output_type": "stream",
     "text": [
      "Matching score: 0\n",
      "input tokens: 17376, output tokens: 345\n",
      "Task ID: TASK_250309_135125_435973\n",
      "Task text: Generate a heatmap of power station density in regions with water scarcity\n"
     ]
    },
    {
     "name": "stderr",
     "output_type": "stream",
     "text": [
      " 20%|██        | 10/50 [01:46<07:02, 10.57s/it]"
     ]
    },
    {
     "name": "stdout",
     "output_type": "stream",
     "text": [
      "Matching score: 0\n",
      "input tokens: 17784, output tokens: 409\n",
      "Task ID: TASK_250309_135125_299410\n",
      "Task text: What are main agriculture cultures in Blefuscu?\n"
     ]
    },
    {
     "name": "stderr",
     "output_type": "stream",
     "text": [
      " 22%|██▏       | 11/50 [01:56<06:41, 10.30s/it]"
     ]
    },
    {
     "name": "stdout",
     "output_type": "stream",
     "text": [
      "Matching score: 2\n",
      "input tokens: 17279, output tokens: 392\n",
      "Task ID: TASK_250309_135125_304935\n",
      "Task text: Visualize water usage patterns in Great Lakes region of Africa\n"
     ]
    },
    {
     "name": "stderr",
     "output_type": "stream",
     "text": [
      " 24%|██▍       | 12/50 [02:04<06:12,  9.79s/it]"
     ]
    },
    {
     "name": "stdout",
     "output_type": "stream",
     "text": [
      "Matching score: 2\n",
      "input tokens: 17291, output tokens: 324\n",
      "Task ID: TASK_250309_135125_932053\n",
      "Task text: How many African power stations are located in countries with significant forest loss?\n"
     ]
    },
    {
     "name": "stderr",
     "output_type": "stream",
     "text": [
      " 26%|██▌       | 13/50 [02:14<06:05,  9.87s/it]"
     ]
    },
    {
     "name": "stdout",
     "output_type": "stream",
     "text": [
      "Matching score: 0\n",
      "input tokens: 19418, output tokens: 376\n",
      "Task ID: TASK_250309_135125_222041\n",
      "Task text: How does electric consumption vary across Arctic nations?\n"
     ]
    },
    {
     "name": "stderr",
     "output_type": "stream",
     "text": [
      " 28%|██▊       | 14/50 [02:24<05:54,  9.86s/it]"
     ]
    },
    {
     "name": "stdout",
     "output_type": "stream",
     "text": [
      "Matching score: 0\n",
      "input tokens: 17763, output tokens: 377\n",
      "Task ID: TASK_250309_135125_332083\n",
      "Task text: How many mineral extraction facilities in Algeria are located within areas with population density over 1000 people per square km?\n"
     ]
    },
    {
     "name": "stderr",
     "output_type": "stream",
     "text": [
      " 30%|███       | 15/50 [02:35<05:49,  9.99s/it]"
     ]
    },
    {
     "name": "stdout",
     "output_type": "stream",
     "text": [
      "Matching score: 2\n",
      "input tokens: 17677, output tokens: 451\n",
      "Task ID: TASK_250309_135125_811107\n",
      "Task text: What is the total length of railways in Brazilian states with GDP per capita above national average?\n"
     ]
    },
    {
     "name": "stderr",
     "output_type": "stream",
     "text": [
      " 32%|███▏      | 16/50 [02:43<05:23,  9.52s/it]"
     ]
    },
    {
     "name": "stdout",
     "output_type": "stream",
     "text": [
      "Matching score: 2\n",
      "input tokens: 17480, output tokens: 322\n",
      "Task ID: TASK_250309_135125_536420\n",
      "Task text: Compare population density between flood-affected and non-flood-affected areas in Bangladesh during August 2018\n"
     ]
    },
    {
     "name": "stderr",
     "output_type": "stream",
     "text": [
      " 34%|███▍      | 17/50 [02:52<05:10,  9.40s/it]"
     ]
    },
    {
     "name": "stdout",
     "output_type": "stream",
     "text": [
      "Matching score: 0\n",
      "input tokens: 17483, output tokens: 395\n",
      "Task ID: TASK_250309_135125_748943\n",
      "Task text: Show rural population percentages worldwide.\n"
     ]
    },
    {
     "name": "stderr",
     "output_type": "stream",
     "text": [
      " 36%|███▌      | 18/50 [03:02<05:01,  9.42s/it]"
     ]
    },
    {
     "name": "stdout",
     "output_type": "stream",
     "text": [
      "Matching score: 0\n",
      "input tokens: 17786, output tokens: 433\n",
      "Task ID: TASK_250309_135125_710732\n",
      "Task text: How many mineral extraction facilities in Africa are located in countries with rapid urbanization?\n"
     ]
    },
    {
     "name": "stderr",
     "output_type": "stream",
     "text": [
      " 38%|███▊      | 19/50 [03:12<04:58,  9.62s/it]"
     ]
    },
    {
     "name": "stdout",
     "output_type": "stream",
     "text": [
      "Matching score: 0\n",
      "input tokens: 18505, output tokens: 410\n",
      "Task ID: TASK_250309_135125_498483\n",
      "Task text: Show the distribution of water stress in Mediterranean coastal areas?\n"
     ]
    },
    {
     "name": "stderr",
     "output_type": "stream",
     "text": [
      " 40%|████      | 20/50 [03:22<04:51,  9.73s/it]"
     ]
    },
    {
     "name": "stdout",
     "output_type": "stream",
     "text": [
      "Matching score: 0\n",
      "input tokens: 17679, output tokens: 410\n",
      "Task ID: TASK_250309_135125_418513\n",
      "Task text: How many power stations in Africa are located within 10 km of major railways?\n"
     ]
    },
    {
     "name": "stderr",
     "output_type": "stream",
     "text": [
      " 42%|████▏     | 21/50 [03:31<04:39,  9.62s/it]"
     ]
    },
    {
     "name": "stdout",
     "output_type": "stream",
     "text": [
      "Matching score: 2\n",
      "input tokens: 17854, output tokens: 353\n",
      "Task ID: TASK_250309_135125_459898\n",
      "Task text: Map the distribution of renewable water resources in arid regions.\n"
     ]
    },
    {
     "name": "stderr",
     "output_type": "stream",
     "text": [
      " 44%|████▍     | 22/50 [03:39<04:13,  9.06s/it]"
     ]
    },
    {
     "name": "stdout",
     "output_type": "stream",
     "text": [
      "Matching score: 2\n",
      "input tokens: 17290, output tokens: 308\n",
      "Task ID: TASK_250309_135125_365343\n",
      "Task text: How many rivers flow through areas with significant forest coverage in South America?\n"
     ]
    },
    {
     "name": "stderr",
     "output_type": "stream",
     "text": [
      " 46%|████▌     | 23/50 [03:49<04:16,  9.48s/it]"
     ]
    },
    {
     "name": "stdout",
     "output_type": "stream",
     "text": [
      "Matching score: 2\n",
      "input tokens: 18009, output tokens: 420\n",
      "Task ID: TASK_250309_135125_381719\n",
      "Task text: Calculate the total population affected by floods in Peru during February 2018\n"
     ]
    },
    {
     "name": "stderr",
     "output_type": "stream",
     "text": [
      " 48%|████▊     | 24/50 [03:57<03:54,  9.03s/it]"
     ]
    },
    {
     "name": "stdout",
     "output_type": "stream",
     "text": [
      "Matching score: 2\n",
      "input tokens: 17647, output tokens: 330\n",
      "Task ID: TASK_250309_135125_918547\n",
      "Task text: What is the average GDP per capita in 2020 for countries that experienced earthquakes in the last 30 days?\n"
     ]
    },
    {
     "name": "stderr",
     "output_type": "stream",
     "text": [
      " 50%|█████     | 25/50 [04:07<03:52,  9.29s/it]"
     ]
    },
    {
     "name": "stdout",
     "output_type": "stream",
     "text": [
      "Matching score: 2\n",
      "input tokens: 17916, output tokens: 405\n",
      "Task ID: TASK_250309_135125_913900\n",
      "Task text: Show rates of deforestation over the last decade.\n"
     ]
    },
    {
     "name": "stderr",
     "output_type": "stream",
     "text": [
      " 52%|█████▏    | 26/50 [04:15<03:31,  8.82s/it]"
     ]
    },
    {
     "name": "stdout",
     "output_type": "stream",
     "text": [
      "Matching score: 2\n",
      "input tokens: 17733, output tokens: 337\n",
      "Task ID: TASK_250309_135125_460208\n",
      "Task text: Map total population distribution globally.\n"
     ]
    },
    {
     "name": "stderr",
     "output_type": "stream",
     "text": [
      " 54%|█████▍    | 27/50 [04:23<03:15,  8.49s/it]"
     ]
    },
    {
     "name": "stdout",
     "output_type": "stream",
     "text": [
      "Matching score: 2\n",
      "input tokens: 17602, output tokens: 304\n",
      "Task ID: TASK_250309_135125_797835\n",
      "Task text: Visualize fertility rates across Sub-Saharan Africa\n"
     ]
    },
    {
     "name": "stderr",
     "output_type": "stream",
     "text": [
      " 56%|█████▌    | 28/50 [04:32<03:10,  8.67s/it]"
     ]
    },
    {
     "name": "stdout",
     "output_type": "stream",
     "text": [
      "Matching score: 0\n",
      "input tokens: 17741, output tokens: 361\n",
      "Task ID: TASK_250309_135125_996706\n",
      "Task text: Create contour lines of snow accumulation near major water bodies\n"
     ]
    },
    {
     "name": "stderr",
     "output_type": "stream",
     "text": [
      " 58%|█████▊    | 29/50 [04:42<03:11,  9.12s/it]"
     ]
    },
    {
     "name": "stdout",
     "output_type": "stream",
     "text": [
      "Matching score: 1\n",
      "input tokens: 18043, output tokens: 431\n",
      "Task ID: TASK_250309_135125_763412\n",
      "Task text: Create contour lines from Chile's population density data in relation to rivers\n"
     ]
    },
    {
     "name": "stderr",
     "output_type": "stream",
     "text": [
      " 60%|██████    | 30/50 [04:51<03:02,  9.14s/it]"
     ]
    },
    {
     "name": "stdout",
     "output_type": "stream",
     "text": [
      "Matching score: 1\n",
      "input tokens: 18148, output tokens: 410\n",
      "Task ID: TASK_250309_135125_265245\n",
      "Task text: Create a heatmap of power station density in regions with high energy demand\n"
     ]
    },
    {
     "name": "stderr",
     "output_type": "stream",
     "text": [
      " 62%|██████▏   | 31/50 [05:00<02:50,  8.97s/it]"
     ]
    },
    {
     "name": "stdout",
     "output_type": "stream",
     "text": [
      "Matching score: 0\n",
      "input tokens: 17372, output tokens: 347\n",
      "Task ID: TASK_250309_135125_419069\n",
      "Task text: Generate a heatmap of USA population density in counties with reported tuberculosis cases\n"
     ]
    },
    {
     "name": "stderr",
     "output_type": "stream",
     "text": [
      " 64%|██████▍   | 32/50 [05:09<02:45,  9.20s/it]"
     ]
    },
    {
     "name": "stdout",
     "output_type": "stream",
     "text": [
      "Matching score: 0\n",
      "input tokens: 17660, output tokens: 392\n",
      "Task ID: MV2502221355_03890300\n",
      "Task text: Compare the freshwater withdrawal between African countries with and without significant railway networks\n"
     ]
    },
    {
     "name": "stderr",
     "output_type": "stream",
     "text": [
      " 66%|██████▌   | 33/50 [05:20<02:44,  9.67s/it]"
     ]
    },
    {
     "name": "stdout",
     "output_type": "stream",
     "text": [
      "Matching score: 0\n",
      "input tokens: 18443, output tokens: 418\n",
      "Task ID: TASK_250309_135125_470604\n",
      "Task text: Make a heatmap of power station density in regions with high forest depletion\n"
     ]
    },
    {
     "name": "stderr",
     "output_type": "stream",
     "text": [
      " 68%|██████▊   | 34/50 [05:32<02:43, 10.25s/it]"
     ]
    },
    {
     "name": "stdout",
     "output_type": "stream",
     "text": [
      "Matching score: 1\n",
      "input tokens: 18591, output tokens: 453\n",
      "Task ID: TASK_250309_135125_554817\n",
      "Task text: Generate contour lines from snow cover data for 2023-2024 season and compare with railway stations locations in the northern states\n"
     ]
    },
    {
     "name": "stderr",
     "output_type": "stream",
     "text": [
      " 70%|███████   | 35/50 [05:42<02:34, 10.32s/it]"
     ]
    },
    {
     "name": "stdout",
     "output_type": "stream",
     "text": [
      "Matching score: 0\n",
      "input tokens: 18059, output tokens: 437\n",
      "Task ID: TASK_250309_135125_663887\n",
      "Task text: Compare environmental protection spending across developed nations.\n"
     ]
    },
    {
     "name": "stderr",
     "output_type": "stream",
     "text": [
      " 72%|███████▏  | 36/50 [05:51<02:17,  9.79s/it]"
     ]
    },
    {
     "name": "stdout",
     "output_type": "stream",
     "text": [
      "Matching score: 2\n",
      "input tokens: 17292, output tokens: 318\n",
      "Task ID: TASK_250309_135125_898861\n",
      "Task text: Map the distribution of agricultural productivity in sub-Saharan Africa.\n"
     ]
    },
    {
     "name": "stderr",
     "output_type": "stream",
     "text": [
      " 74%|███████▍  | 37/50 [06:00<02:04,  9.56s/it]"
     ]
    },
    {
     "name": "stdout",
     "output_type": "stream",
     "text": [
      "Matching score: 0\n",
      "input tokens: 17750, output tokens: 394\n",
      "Task ID: TASK_250309_135125_429627\n",
      "Task text: Calculate the average electric power consumption in African countries with power stations capacity above 1000MW\n"
     ]
    },
    {
     "name": "stderr",
     "output_type": "stream",
     "text": [
      " 76%|███████▌  | 38/50 [06:09<01:53,  9.43s/it]"
     ]
    },
    {
     "name": "stdout",
     "output_type": "stream",
     "text": [
      "Matching score: 2\n",
      "input tokens: 17984, output tokens: 376\n",
      "Task ID: TASK_250309_135125_544781\n",
      "Task text: Map marine protected areas in coastal nations.\n"
     ]
    },
    {
     "name": "stderr",
     "output_type": "stream",
     "text": [
      " 78%|███████▊  | 39/50 [06:16<01:35,  8.72s/it]"
     ]
    },
    {
     "name": "stdout",
     "output_type": "stream",
     "text": [
      "Matching score: 2\n",
      "input tokens: 17286, output tokens: 281\n",
      "Task ID: TASK_250309_135125_826615\n",
      "Task text: Show agricultural GDP contribution in Nordic countries\n"
     ]
    },
    {
     "name": "stderr",
     "output_type": "stream",
     "text": [
      " 80%|████████  | 40/50 [06:26<01:31,  9.17s/it]"
     ]
    },
    {
     "name": "stdout",
     "output_type": "stream",
     "text": [
      "Matching score: 0\n",
      "input tokens: 17740, output tokens: 449\n",
      "Task ID: TASK_250309_135125_191153\n",
      "Task text: Show water withdrawal patterns in BRICS nations.\n"
     ]
    },
    {
     "name": "stderr",
     "output_type": "stream",
     "text": [
      " 82%|████████▏ | 41/50 [06:36<01:23,  9.29s/it]"
     ]
    },
    {
     "name": "stdout",
     "output_type": "stream",
     "text": [
      "Matching score: 1\n",
      "input tokens: 17825, output tokens: 422\n",
      "Task ID: TASK_250309_135125_279238\n",
      "Task text: Make a heatmap showing population concentration in flood-risk zones of South America\n"
     ]
    },
    {
     "name": "stderr",
     "output_type": "stream",
     "text": [
      " 84%|████████▍ | 42/50 [06:46<01:17,  9.71s/it]"
     ]
    },
    {
     "name": "stdout",
     "output_type": "stream",
     "text": [
      "Matching score: 0\n",
      "input tokens: 17400, output tokens: 444\n",
      "Task ID: TASK_250309_135125_305778\n",
      "Task text: How many power stations in Africa are located in economically strategic regions?\n"
     ]
    },
    {
     "name": "stderr",
     "output_type": "stream",
     "text": [
      " 86%|████████▌ | 43/50 [06:55<01:04,  9.25s/it]"
     ]
    },
    {
     "name": "stdout",
     "output_type": "stream",
     "text": [
      "Matching score: 0\n",
      "input tokens: 17287, output tokens: 311\n",
      "Task ID: TASK_250309_135125_868995\n",
      "Task text: Compare healthcare expenditure across Middle Eastern countries.\n"
     ]
    },
    {
     "name": "stderr",
     "output_type": "stream",
     "text": [
      " 88%|████████▊ | 44/50 [07:04<00:54,  9.14s/it]"
     ]
    },
    {
     "name": "stdout",
     "output_type": "stream",
     "text": [
      "Matching score: 0\n",
      "input tokens: 17541, output tokens: 370\n",
      "Task ID: TASK_250309_135125_565545\n",
      "Task text: Create a heatmap of earthquakes magnitude in Indonesia, Malaysia and Phillippines\n"
     ]
    },
    {
     "name": "stderr",
     "output_type": "stream",
     "text": [
      " 90%|█████████ | 45/50 [07:13<00:45,  9.12s/it]"
     ]
    },
    {
     "name": "stdout",
     "output_type": "stream",
     "text": [
      "Matching score: 2\n",
      "input tokens: 17726, output tokens: 378\n",
      "Task ID: TASK_250309_135125_478472\n",
      "Task text: Map digital literacy rates in Southeast Asian nations.\n"
     ]
    },
    {
     "name": "stderr",
     "output_type": "stream",
     "text": [
      " 92%|█████████▏| 46/50 [07:20<00:33,  8.50s/it]"
     ]
    },
    {
     "name": "stdout",
     "output_type": "stream",
     "text": [
      "Matching score: 2\n",
      "input tokens: 17287, output tokens: 285\n",
      "Task ID: TASK_250309_135125_861416\n",
      "Task text: Visualize regional economic patterns using GDP per capita.\n"
     ]
    },
    {
     "name": "stderr",
     "output_type": "stream",
     "text": [
      " 94%|█████████▍| 47/50 [07:28<00:25,  8.52s/it]"
     ]
    },
    {
     "name": "stdout",
     "output_type": "stream",
     "text": [
      "Matching score: 1\n",
      "input tokens: 17660, output tokens: 386\n",
      "Task ID: TASK_250309_135125_130168\n",
      "Task text: How many mineral extraction facilities in Africa are located in countries with negative net migration?\n"
     ]
    },
    {
     "name": "stderr",
     "output_type": "stream",
     "text": [
      " 96%|█████████▌| 48/50 [07:40<00:19,  9.51s/it]"
     ]
    },
    {
     "name": "stdout",
     "output_type": "stream",
     "text": [
      "Matching score: 0\n",
      "input tokens: 18607, output tokens: 437\n",
      "Task ID: TASK_250309_135125_720013\n",
      "Task text: Show electric consumption in G7 and BRICS nations\n"
     ]
    },
    {
     "name": "stderr",
     "output_type": "stream",
     "text": [
      " 98%|█████████▊| 49/50 [07:50<00:09,  9.63s/it]"
     ]
    },
    {
     "name": "stdout",
     "output_type": "stream",
     "text": [
      "Matching score: 1\n",
      "input tokens: 17929, output tokens: 394\n",
      "Task ID: TASK_250309_135125_908870\n",
      "Task text: Visualize total population distribution by country.\n"
     ]
    },
    {
     "name": "stderr",
     "output_type": "stream",
     "text": [
      "100%|██████████| 50/50 [07:58<00:00,  9.58s/it]"
     ]
    },
    {
     "name": "stdout",
     "output_type": "stream",
     "text": [
      "Matching score: 2\n",
      "input tokens: 17624, output tokens: 327\n",
      "Total input tokens: 887998, total output tokens: 19113\n"
     ]
    },
    {
     "name": "stderr",
     "output_type": "stream",
     "text": [
      "\n"
     ]
    }
   ],
   "source": [
    "# Run evaluation of the whole set by the selected model\n",
    "# The LLM match scores will be saved directly in the tuning tasks file. \n",
    "# Proceed to the next part of the notebook and see how close the LLM's solutions \n",
    "\n",
    "score_solutions_set(tuning_tasks_filename, DATA_FOLDER, model, skip_scored=False)"
   ]
  },
  {
   "cell_type": "markdown",
   "id": "eb9334a1-e84c-411a-9805-2a33e7f4ec73",
   "metadata": {},
   "source": [
    "### Evaluate comparisons"
   ]
  },
  {
   "cell_type": "markdown",
   "id": "83240e1b-e163-4f19-9844-1bd17d82a7b6",
   "metadata": {},
   "source": [
    "1. Count how many human comparisons and LLM's comparisons match. "
   ]
  },
  {
   "cell_type": "code",
   "execution_count": 13,
   "id": "623d1af0",
   "metadata": {},
   "outputs": [
    {
     "name": "stdout",
     "output_type": "stream",
     "text": [
      "         LLM_0  LLM_1  LLM_2\n",
      "Human_0     21      3      0\n",
      "Human_1      0      5      0\n",
      "Human_2      1      1     19\n",
      "0.9\n",
      "(0.7863976856252034, 0.9565242350681095)\n"
     ]
    }
   ],
   "source": [
    "# Generate the matrix of LLM scores vs Human scores, percent of tasks for which the scores are the same and CI using Ward formula                                                                                                                                                                                     \n",
    "generate_eval_stats_evaluator(tuning_tasks_filename, DATA_FOLDER)"
   ]
  },
  {
   "cell_type": "code",
   "execution_count": null,
   "id": "e073f6dd",
   "metadata": {},
   "outputs": [
    {
     "data": {
      "text/plain": [
       "[|                                  | Task details                                                                                                                                                                                                                                                                                                                                                                                                                                                                                                                                                                                                                |\n",
       " |:---------------------------------|:----------------------------------------------------------------------------------------------------------------------------------------------------------------------------------------------------------------------------------------------------------------------------------------------------------------------------------------------------------------------------------------------------------------------------------------------------------------------------------------------------------------------------------------------------------------------------------------------------------------------------|\n",
       " | task_ID                          | TASK_250309_135125_332083                                                                                                                                                                                                                                                                                                                                                                                                                                                                                                                                                                                                   |\n",
       " | task_text                        | How many mineral extraction facilities in Algeria are located within areas with population density over 1000 people per square km?                                                                                                                                                                                                                                                                                                                                                                                                                                                                                          |\n",
       " | task_labels                      | SPATIAL_OPERATIONS                                                                                                                                                                                                                                                                                                                                                                                                                                                                                                                                                                                                          |\n",
       " |                                  | TASK_SET_03                                                                                                                                                                                                                                                                                                                                                                                                                                                                                                                                                                                                                 |\n",
       " | reference_solution_description   | None                                                                                                                                                                                                                                                                                                                                                                                                                                                                                                                                                                                                                        |\n",
       " | reference_solutions              | 1. load_geodata(geodataset='Mineral extraction facilities in Africa', output_geodataframe_name='mines')                                                                                                                                                                                                                                                                                                                                                                                                                                                                                                                     |\n",
       " |                                  | 2. filter_categorical(dataframe_name='mines', filters='{'Country': 'Algeria'}', output_dataframe_name='algeria_mines')                                                                                                                                                                                                                                                                                                                                                                                                                                                                                                      |\n",
       " |                                  | 3. get_raster_path(rasterdataset='Algeria population density per 1 km 2020, 1 km resolution')                                                                                                                                                                                                                                                                                                                                                                                                                                                                                                                               |\n",
       " |                                  | 4. filter_points_by_raster_values(raster_path='G:/My Drive/Geo Agent/Tasks data/GeoData/dza_pd_2020_1km_UNadj.tif', points_geodataframe_name='algeria_mines', value_column='population_density', output_geodataframe_name='high_density_mines', filter_type='greater', threshold1='1000')                                                                                                                                                                                                                                                                                                                                   |\n",
       " | generated_solution               | 1. get_raster_path(rasterdataset='Algeria population density per 1 km 2020, 1 km resolution')                                                                                                                                                                                                                                                                                                                                                                                                                                                                                                                               |\n",
       " |                                  | 2. load_geodata(geodataset='Mineral extraction facilities in Africa', output_geodataframe_name='minerals')                                                                                                                                                                                                                                                                                                                                                                                                                                                                                                                  |\n",
       " |                                  | 3. filter_categorical(dataframe_name='minerals', filters='{'Country': 'Algeria'}', output_dataframe_name='algeria_minerals')                                                                                                                                                                                                                                                                                                                                                                                                                                                                                                |\n",
       " |                                  | 4. filter_points_by_raster_values(raster_path='G:/My Drive/Geo Agent/Tasks data/GeoData/dza_pd_2020_1km_UNadj.tif', points_geodataframe_name='algeria_minerals', value_column='pop_density', output_geodataframe_name='high_density_minerals', filter_type='greater', threshold1='1000')                                                                                                                                                                                                                                                                                                                                    |\n",
       " | generated_solution_input_tokens  | None                                                                                                                                                                                                                                                                                                                                                                                                                                                                                                                                                                                                                        |\n",
       " | generated_solution_output_tokens | None                                                                                                                                                                                                                                                                                                                                                                                                                                                                                                                                                                                                                        |\n",
       " | match_reasoning_LLM              | The candidate solution uses the same datasets and tools as the reference solution. The order of steps is different, but this is not an essential difference. The filter used in 'filter_categorical' is the same. The raster path is the same. The 'filter_points_by_raster_values' tool is used with the same 'filter_type' and 'threshold1'. However, the 'value_column' is different. In the reference solution, it is 'population_density', while in the candidate solution, it is 'pop_density'. This will lead to different results. Therefore, the candidate solution does not fully match the reference solution.\\n |\n",
       " | match_score_LLM                  | NO_MATCH                                                                                                                                                                                                                                                                                                                                                                                                                                                                                                                                                                                                                    |\n",
       " | match_reasoning_Human            | Both reference and candidate solution use the same datasets, tools. Order of steps is different, however, this is not an essential difference. Moreover, the last step is the same and the important arguments 'filter_type' and 'threshold1' are the same, meaning the final result will be same.                                                                                                                                                                                                                                                                                                                          |\n",
       " | match_score_Human                | MATCH                                                                                                                                                                                                                                                                                                                                                                                                                                                                                                                                                                                                                       |,\n",
       " |                                  | Task details                                                                                                                                                                                                                                                                                                                                                    |\n",
       " |:---------------------------------|:----------------------------------------------------------------------------------------------------------------------------------------------------------------------------------------------------------------------------------------------------------------------------------------------------------------------------------------------------------------|\n",
       " | task_ID                          | TASK_250309_135125_811107                                                                                                                                                                                                                                                                                                                                       |\n",
       " | task_text                        | What is the total length of railways in Brazilian states with GDP per capita above national average?                                                                                                                                                                                                                                                            |\n",
       " | task_labels                      | SPATIAL_OPERATIONS                                                                                                                                                                                                                                                                                                                                              |\n",
       " |                                  | TASK_SET_03                                                                                                                                                                                                                                                                                                                                                     |\n",
       " | reference_solution_description   | None                                                                                                                                                                                                                                                                                                                                                            |\n",
       " | reference_solutions              | 1. reject_task()                                                                                                                                                                                                                                                                                                                                                |\n",
       " | generated_solution               | 1. load_data(dataset='GDP per capita (current US$)', output_dataframe_name='gdp_data')                                                                                                                                                                                                                                                                          |\n",
       " |                                  | 2. load_geodata(geodataset='States of Brazil', output_geodataframe_name='brazil_states')                                                                                                                                                                                                                                                                        |\n",
       " |                                  | 3. load_geodata(geodataset='Railways in Brazil', output_geodataframe_name='brazil_railways')                                                                                                                                                                                                                                                                    |\n",
       " |                                  | 4. merge_dataframes(dataframe_name='gdp_data', geodataframe_name='brazil_states', statkey='Country Name', geokey='ADM0_EN', output_dataframe_name='brazil_gdp_states')                                                                                                                                                                                          |\n",
       " |                                  | 5. filter_numerical(dataframe_name='brazil_gdp_states', conditions='2022 > 8963.07', output_dataframe_name='high_gdp_states')                                                                                                                                                                                                                                   |\n",
       " |                                  | 6. reject_task()                                                                                                                                                                                                                                                                                                                                                |\n",
       " | generated_solution_input_tokens  | None                                                                                                                                                                                                                                                                                                                                                            |\n",
       " | generated_solution_output_tokens | None                                                                                                                                                                                                                                                                                                                                                            |\n",
       " | match_reasoning_LLM              | \\nThe reference solution is reject_task(). The candidate solution attempts to load data, merge it, filter it, and then calls reject_task(). Since the reference solution indicates that the task is impossible, and the candidate solution attempts to solve it before ultimately rejecting it, the candidate solution does not match the reference solution.\\n |\n",
       " | match_score_LLM                  | NO_MATCH                                                                                                                                                                                                                                                                                                                                                        |\n",
       " | match_reasoning_Human            | There is only one reference solution and it is 'reject_task', the candidate solution ends with 'reject_task', so this is a match.                                                                                                                                                                                                                               |\n",
       " | match_score_Human                | MATCH                                                                                                                                                                                                                                                                                                                                                           |,\n",
       " |                                  | Task details                                                                                                                                                                                                                                                                                                                                                                                                                                                                                                                                                                                                                                                                                                                                                                                                                                                                                                                                                                                                                                                                                                                                                                                                                                                                                                                                                                                                                                                                                                                                                                                                                                                                                                                                                                                                                                                                                                                                                                                                                                                                                                                                                                                                                                                                                                                                                                                                                                                                                                                                                          |\n",
       " |:---------------------------------|:----------------------------------------------------------------------------------------------------------------------------------------------------------------------------------------------------------------------------------------------------------------------------------------------------------------------------------------------------------------------------------------------------------------------------------------------------------------------------------------------------------------------------------------------------------------------------------------------------------------------------------------------------------------------------------------------------------------------------------------------------------------------------------------------------------------------------------------------------------------------------------------------------------------------------------------------------------------------------------------------------------------------------------------------------------------------------------------------------------------------------------------------------------------------------------------------------------------------------------------------------------------------------------------------------------------------------------------------------------------------------------------------------------------------------------------------------------------------------------------------------------------------------------------------------------------------------------------------------------------------------------------------------------------------------------------------------------------------------------------------------------------------------------------------------------------------------------------------------------------------------------------------------------------------------------------------------------------------------------------------------------------------------------------------------------------------------------------------------------------------------------------------------------------------------------------------------------------------------------------------------------------------------------------------------------------------------------------------------------------------------------------------------------------------------------------------------------------------------------------------------------------------------------------------------------------------|\n",
       " | task_ID                          | MV2502221355_03890300                                                                                                                                                                                                                                                                                                                                                                                                                                                                                                                                                                                                                                                                                                                                                                                                                                                                                                                                                                                                                                                                                                                                                                                                                                                                                                                                                                                                                                                                                                                                                                                                                                                                                                                                                                                                                                                                                                                                                                                                                                                                                                                                                                                                                                                                                                                                                                                                                                                                                                                                                 |\n",
       " | task_text                        | Compare the freshwater withdrawal between African countries with and without significant railway networks                                                                                                                                                                                                                                                                                                                                                                                                                                                                                                                                                                                                                                                                                                                                                                                                                                                                                                                                                                                                                                                                                                                                                                                                                                                                                                                                                                                                                                                                                                                                                                                                                                                                                                                                                                                                                                                                                                                                                                                                                                                                                                                                                                                                                                                                                                                                                                                                                                                             |\n",
       " | task_labels                      | SPATIAL_OPERATIONS                                                                                                                                                                                                                                                                                                                                                                                                                                                                                                                                                                                                                                                                                                                                                                                                                                                                                                                                                                                                                                                                                                                                                                                                                                                                                                                                                                                                                                                                                                                                                                                                                                                                                                                                                                                                                                                                                                                                                                                                                                                                                                                                                                                                                                                                                                                                                                                                                                                                                                                                                    |\n",
       " |                                  | TASK_SET_03                                                                                                                                                                                                                                                                                                                                                                                                                                                                                                                                                                                                                                                                                                                                                                                                                                                                                                                                                                                                                                                                                                                                                                                                                                                                                                                                                                                                                                                                                                                                                                                                                                                                                                                                                                                                                                                                                                                                                                                                                                                                                                                                                                                                                                                                                                                                                                                                                                                                                                                                                           |\n",
       " | reference_solution_description   | None                                                                                                                                                                                                                                                                                                                                                                                                                                                                                                                                                                                                                                                                                                                                                                                                                                                                                                                                                                                                                                                                                                                                                                                                                                                                                                                                                                                                                                                                                                                                                                                                                                                                                                                                                                                                                                                                                                                                                                                                                                                                                                                                                                                                                                                                                                                                                                                                                                                                                                                                                                  |\n",
       " | reference_solutions              | 1. load_data(dataset='Annual freshwater withdrawals, total (billion cubic meters)', output_dataframe_name='water_data')                                                                                                                                                                                                                                                                                                                                                                                                                                                                                                                                                                                                                                                                                                                                                                                                                                                                                                                                                                                                                                                                                                                                                                                                                                                                                                                                                                                                                                                                                                                                                                                                                                                                                                                                                                                                                                                                                                                                                                                                                                                                                                                                                                                                                                                                                                                                                                                                                                               |\n",
       " |                                  | 2. load_geodata(geodataset='Countries', output_geodataframe_name='countries')                                                                                                                                                                                                                                                                                                                                                                                                                                                                                                                                                                                                                                                                                                                                                                                                                                                                                                                                                                                                                                                                                                                                                                                                                                                                                                                                                                                                                                                                                                                                                                                                                                                                                                                                                                                                                                                                                                                                                                                                                                                                                                                                                                                                                                                                                                                                                                                                                                                                                         |\n",
       " |                                  | 3. load_geodata(geodataset='Railways in Africa', output_geodataframe_name='railways')                                                                                                                                                                                                                                                                                                                                                                                                                                                                                                                                                                                                                                                                                                                                                                                                                                                                                                                                                                                                                                                                                                                                                                                                                                                                                                                                                                                                                                                                                                                                                                                                                                                                                                                                                                                                                                                                                                                                                                                                                                                                                                                                                                                                                                                                                                                                                                                                                                                                                 |\n",
       " |                                  | 4. merge_dataframes(dataframe_name='water_data', geodataframe_name='countries', statkey='Country Name', geokey='NAME_EN', output_dataframe_name='merged_data') #If 'statkey' is 'Country Name', then 'geokey' should be 'NAME_EN'. If 'statkey' is 'Country Code', then 'geokey' can be either 'WB_A3' or 'ISO_A3'.                                                                                                                                                                                                                                                                                                                                                                                                                                                                                                                                                                                                                                                                                                                                                                                                                                                                                                                                                                                                                                                                                                                                                                                                                                                                                                                                                                                                                                                                                                                                                                                                                                                                                                                                                                                                                                                                                                                                                                                                                                                                                                                                                                                                                                                   |\n",
       " |                                  | 5. filter_categorical(dataframe_name='merged_data', filters='{'CONTINENT': 'Africa'}', output_dataframe_name='africa_data')                                                                                                                                                                                                                                                                                                                                                                                                                                                                                                                                                                                                                                                                                                                                                                                                                                                                                                                                                                                                                                                                                                                                                                                                                                                                                                                                                                                                                                                                                                                                                                                                                                                                                                                                                                                                                                                                                                                                                                                                                                                                                                                                                                                                                                                                                                                                                                                                                                           |\n",
       " |                                  | 6. make_choropleth_map(dataframe_name='africa_data', mappingkey='2020', legendtext='Annual freshwater withdrawals (billion cubic meters)', colormap='Water')                                                                                                                                                                                                                                                                                                                                                                                                                                                                                                                                                                                                                                                                                                                                                                                                                                                                                                                                                                                                                                                                                                                                                                                                                                                                                                                                                                                                                                                                                                                                                                                                                                                                                                                                                                                                                                                                                                                                                                                                                                                                                                                                                                                                                                                                                                                                                                                                          |\n",
       " |                                  | 7. visualize_geographies(geodataframe_names='['railways']', layer_styles='[{'color': 'red', 'alpha': 0.6, 'label': 'Railways'}]', title='Railways in Africa')                                                                                                                                                                                                                                                                                                                                                                                                                                                                                                                                                                                                                                                                                                                                                                                                                                                                                                                                                                                                                                                                                                                                                                                                                                                                                                                                                                                                                                                                                                                                                                                                                                                                                                                                                                                                                                                                                                                                                                                                                                                                                                                                                                                                                                                                                                                                                                                                         |\n",
       " |                                  |                                                                                                                                                                                                                                                                                                                                                                                                                                                                                                                                                                                                                                                                                                                                                                                                                                                                                                                                                                                                                                                                                                                                                                                                                                                                                                                                                                                                                                                                                                                                                                                                                                                                                                                                                                                                                                                                                                                                                                                                                                                                                                                                                                                                                                                                                                                                                                                                                                                                                                                                                                       |\n",
       " |                                  | ---                                                                                                                                                                                                                                                                                                                                                                                                                                                                                                                                                                                                                                                                                                                                                                                                                                                                                                                                                                                                                                                                                                                                                                                                                                                                                                                                                                                                                                                                                                                                                                                                                                                                                                                                                                                                                                                                                                                                                                                                                                                                                                                                                                                                                                                                                                                                                                                                                                                                                                                                                                   |\n",
       " |                                  | 1. reject_task()                                                                                                                                                                                                                                                                                                                                                                                                                                                                                                                                                                                                                                                                                                                                                                                                                                                                                                                                                                                                                                                                                                                                                                                                                                                                                                                                                                                                                                                                                                                                                                                                                                                                                                                                                                                                                                                                                                                                                                                                                                                                                                                                                                                                                                                                                                                                                                                                                                                                                                                                                      |\n",
       " |                                  |                                                                                                                                                                                                                                                                                                                                                                                                                                                                                                                                                                                                                                                                                                                                                                                                                                                                                                                                                                                                                                                                                                                                                                                                                                                                                                                                                                                                                                                                                                                                                                                                                                                                                                                                                                                                                                                                                                                                                                                                                                                                                                                                                                                                                                                                                                                                                                                                                                                                                                                                                                       |\n",
       " |                                  | ---                                                                                                                                                                                                                                                                                                                                                                                                                                                                                                                                                                                                                                                                                                                                                                                                                                                                                                                                                                                                                                                                                                                                                                                                                                                                                                                                                                                                                                                                                                                                                                                                                                                                                                                                                                                                                                                                                                                                                                                                                                                                                                                                                                                                                                                                                                                                                                                                                                                                                                                                                                   |\n",
       " |                                  | 1. load_data(dataset='Annual freshwater withdrawals, total (billion cubic meters)', output_dataframe_name='water_df')                                                                                                                                                                                                                                                                                                                                                                                                                                                                                                                                                                                                                                                                                                                                                                                                                                                                                                                                                                                                                                                                                                                                                                                                                                                                                                                                                                                                                                                                                                                                                                                                                                                                                                                                                                                                                                                                                                                                                                                                                                                                                                                                                                                                                                                                                                                                                                                                                                                 |\n",
       " |                                  | 2. load_data(dataset='Rail lines (total route-km)', output_dataframe_name='rail_df')                                                                                                                                                                                                                                                                                                                                                                                                                                                                                                                                                                                                                                                                                                                                                                                                                                                                                                                                                                                                                                                                                                                                                                                                                                                                                                                                                                                                                                                                                                                                                                                                                                                                                                                                                                                                                                                                                                                                                                                                                                                                                                                                                                                                                                                                                                                                                                                                                                                                                  |\n",
       " |                                  | 3. load_geodata(geodataset='Countries', output_geodataframe_name='countries_gdf')                                                                                                                                                                                                                                                                                                                                                                                                                                                                                                                                                                                                                                                                                                                                                                                                                                                                                                                                                                                                                                                                                                                                                                                                                                                                                                                                                                                                                                                                                                                                                                                                                                                                                                                                                                                                                                                                                                                                                                                                                                                                                                                                                                                                                                                                                                                                                                                                                                                                                     |\n",
       " |                                  | 4. filter_categorical(dataframe_name='countries_gdf', filters='{'CONTINENT': 'Africa'}', output_dataframe_name='africa_gdf')                                                                                                                                                                                                                                                                                                                                                                                                                                                                                                                                                                                                                                                                                                                                                                                                                                                                                                                                                                                                                                                                                                                                                                                                                                                                                                                                                                                                                                                                                                                                                                                                                                                                                                                                                                                                                                                                                                                                                                                                                                                                                                                                                                                                                                                                                                                                                                                                                                          |\n",
       " |                                  | 5. merge_dataframes(dataframe_name='water_df', geodataframe_name='africa_gdf', statkey='Country Name', geokey='NAME_EN', output_dataframe_name='africa_water')                                                                                                                                                                                                                                                                                                                                                                                                                                                                                                                                                                                                                                                                                                                                                                                                                                                                                                                                                                                                                                                                                                                                                                                                                                                                                                                                                                                                                                                                                                                                                                                                                                                                                                                                                                                                                                                                                                                                                                                                                                                                                                                                                                                                                                                                                                                                                                                                        |\n",
       " |                                  | 6. merge_dataframes(dataframe_name='rail_df', geodataframe_name='africa_water', statkey='Country Name', geokey='NAME_EN', output_dataframe_name='africa_final')                                                                                                                                                                                                                                                                                                                                                                                                                                                                                                                                                                                                                                                                                                                                                                                                                                                                                                                                                                                                                                                                                                                                                                                                                                                                                                                                                                                                                                                                                                                                                                                                                                                                                                                                                                                                                                                                                                                                                                                                                                                                                                                                                                                                                                                                                                                                                                                                       |\n",
       " |                                  | 7. make_bivariate_map(dataframe_name='africa_final', var1='2018_x', var2='2018_y', var1_name='Freshwater withdrawals (billion cubic meters)', var2_name='Rail lines (total route-km)', title='Freshwater Withdrawals and Railway Networks in Africa (2018)', output_variable_name='africa_bivariate')                                                                                                                                                                                                                                                                                                                                                                                                                                                                                                                                                                                                                                                                                                                                                                                                                                                                                                                                                                                                                                                                                                                                                                                                                                                                                                                                                                                                                                                                                                                                                                                                                                                                                                                                                                                                                                                                                                                                                                                                                                                                                                                                                                                                                                                                 |\n",
       " | generated_solution               | 1. load_geodata(geodataset='Railways in Africa', output_geodataframe_name='africa_railways')                                                                                                                                                                                                                                                                                                                                                                                                                                                                                                                                                                                                                                                                                                                                                                                                                                                                                                                                                                                                                                                                                                                                                                                                                                                                                                                                                                                                                                                                                                                                                                                                                                                                                                                                                                                                                                                                                                                                                                                                                                                                                                                                                                                                                                                                                                                                                                                                                                                                          |\n",
       " |                                  | 2. load_geodata(geodataset='Countries', output_geodataframe_name='countries')                                                                                                                                                                                                                                                                                                                                                                                                                                                                                                                                                                                                                                                                                                                                                                                                                                                                                                                                                                                                                                                                                                                                                                                                                                                                                                                                                                                                                                                                                                                                                                                                                                                                                                                                                                                                                                                                                                                                                                                                                                                                                                                                                                                                                                                                                                                                                                                                                                                                                         |\n",
       " |                                  | 3. load_data(dataset='Annual freshwater withdrawals, total (billion cubic meters)', output_dataframe_name='water_withdrawal')                                                                                                                                                                                                                                                                                                                                                                                                                                                                                                                                                                                                                                                                                                                                                                                                                                                                                                                                                                                                                                                                                                                                                                                                                                                                                                                                                                                                                                                                                                                                                                                                                                                                                                                                                                                                                                                                                                                                                                                                                                                                                                                                                                                                                                                                                                                                                                                                                                         |\n",
       " |                                  | 4. filter_categorical(dataframe_name='countries', filters='{'CONTINENT': 'Africa'}', output_dataframe_name='africa_countries')                                                                                                                                                                                                                                                                                                                                                                                                                                                                                                                                                                                                                                                                                                                                                                                                                                                                                                                                                                                                                                                                                                                                                                                                                                                                                                                                                                                                                                                                                                                                                                                                                                                                                                                                                                                                                                                                                                                                                                                                                                                                                                                                                                                                                                                                                                                                                                                                                                        |\n",
       " |                                  | 5. calculate_line_lengths(geodataframe_name='africa_railways', output_variable_name='railway_lengths')                                                                                                                                                                                                                                                                                                                                                                                                                                                                                                                                                                                                                                                                                                                                                                                                                                                                                                                                                                                                                                                                                                                                                                                                                                                                                                                                                                                                                                                                                                                                                                                                                                                                                                                                                                                                                                                                                                                                                                                                                                                                                                                                                                                                                                                                                                                                                                                                                                                                |\n",
       " |                                  | 6. make_bivariate_map(dataframe_name='africa_countries', var1='railway_length_km', var2='water_withdrawal_2020', var1_name='Railway Network Length (km)', var2_name='Annual Freshwater Withdrawal (billion m³)', title='Railway Infrastructure vs Freshwater Withdrawal in Africa', output_variable_name='bivariate_map')                                                                                                                                                                                                                                                                                                                                                                                                                                                                                                                                                                                                                                                                                                                                                                                                                                                                                                                                                                                                                                                                                                                                                                                                                                                                                                                                                                                                                                                                                                                                                                                                                                                                                                                                                                                                                                                                                                                                                                                                                                                                                                                                                                                                                                             |\n",
       " |                                  | 7. merge_dataframes(dataframe_name='railway_lengths', geodataframe_name='africa_countries', statkey='Country', geokey='NAME_EN', output_dataframe_name='africa_railways_merged')                                                                                                                                                                                                                                                                                                                                                                                                                                                                                                                                                                                                                                                                                                                                                                                                                                                                                                                                                                                                                                                                                                                                                                                                                                                                                                                                                                                                                                                                                                                                                                                                                                                                                                                                                                                                                                                                                                                                                                                                                                                                                                                                                                                                                                                                                                                                                                                      |\n",
       " |                                  | 8. merge_dataframes(dataframe_name='water_withdrawal', geodataframe_name='africa_countries', statkey='Country Name', geokey='NAME_EN', output_dataframe_name='africa_water')                                                                                                                                                                                                                                                                                                                                                                                                                                                                                                                                                                                                                                                                                                                                                                                                                                                                                                                                                                                                                                                                                                                                                                                                                                                                                                                                                                                                                                                                                                                                                                                                                                                                                                                                                                                                                                                                                                                                                                                                                                                                                                                                                                                                                                                                                                                                                                                          |\n",
       " |                                  | 9. make_choropleth_map(dataframe_name='africa_water', mappingkey='2020', legendtext='Annual Freshwater Withdrawal (billion m³)', colormap='Water')                                                                                                                                                                                                                                                                                                                                                                                                                                                                                                                                                                                                                                                                                                                                                                                                                                                                                                                                                                                                                                                                                                                                                                                                                                                                                                                                                                                                                                                                                                                                                                                                                                                                                                                                                                                                                                                                                                                                                                                                                                                                                                                                                                                                                                                                                                                                                                                                                    |\n",
       " |                                  | 10. visualize_geographies(geodataframe_names='['africa_countries', 'africa_railways']', layer_styles='[{'color': 'lightgray', 'alpha': 0.5, 'label': 'Countries'}, {'color': 'darkblue', 'alpha': 0.8, 'linewidth': 1, 'label': 'Railways'}]', title='Railway Network Distribution in Africa')                                                                                                                                                                                                                                                                                                                                                                                                                                                                                                                                                                                                                                                                                                                                                                                                                                                                                                                                                                                                                                                                                                                                                                                                                                                                                                                                                                                                                                                                                                                                                                                                                                                                                                                                                                                                                                                                                                                                                                                                                                                                                                                                                                                                                                                                        |\n",
       " | generated_solution_input_tokens  | None                                                                                                                                                                                                                                                                                                                                                                                                                                                                                                                                                                                                                                                                                                                                                                                                                                                                                                                                                                                                                                                                                                                                                                                                                                                                                                                                                                                                                                                                                                                                                                                                                                                                                                                                                                                                                                                                                                                                                                                                                                                                                                                                                                                                                                                                                                                                                                                                                                                                                                                                                                  |\n",
       " | generated_solution_output_tokens | None                                                                                                                                                                                                                                                                                                                                                                                                                                                                                                                                                                                                                                                                                                                                                                                                                                                                                                                                                                                                                                                                                                                                                                                                                                                                                                                                                                                                                                                                                                                                                                                                                                                                                                                                                                                                                                                                                                                                                                                                                                                                                                                                                                                                                                                                                                                                                                                                                                                                                                                                                                  |\n",
       " | match_reasoning_LLM              | The candidate solution attempts to address the task but contains several logical errors and inappropriate tool usages, leading to a mismatch with the reference solutions.\\n\\nHere's a breakdown:\\n\\n1.  **Incorrect Bivariate Map Attempt:** The candidate solution attempts to create a bivariate map early on using `africa_countries`, `railway_length_km`, and `water_withdrawal_2020`. However, `africa_countries` is a GeoDataFrame of countries, and `railway_length_km` and `water_withdrawal_2020` are not columns within this GeoDataFrame at this stage. The railway lengths and water withdrawal data are not yet merged into the `africa_countries` GeoDataFrame. This is a fundamental flaw in the logic. The `make_bivariate_map` tool requires the variables to be columns in the input dataframe.\\n2.  **Misuse of `calculate_line_lengths`:** The `calculate_line_lengths` tool is applied to `africa_railways` GeoDataFrame, and the result is stored in `railway_lengths`. However, this result is not directly incorporated into the `africa_countries` GeoDataFrame for comparison.\\n3.  **Unnecessary Merges:** The candidate solution performs two merge operations: one for railway lengths and another for water withdrawal data. While merging is necessary, the order and the data being merged are not aligned with the task's objective.\\n4.  **Missing Comparison:** The core of the task is to compare freshwater withdrawal between countries with and without significant railway networks. The candidate solution does not effectively achieve this comparison. The bivariate map attempt is flawed, and the subsequent choropleth map and visualization do not directly address the comparison aspect.\\n5.  **Incomplete Data Integration:** The candidate solution fails to integrate the railway network data and freshwater withdrawal data effectively to facilitate a meaningful comparison.\\n\\nThe reference solutions offer two approaches:\\n\\n*   **Reference Solution 1:** Creates a choropleth map of freshwater withdrawals and overlays the railway network for visual comparison.\\n*   **Reference Solution 3:** Creates a bivariate map showing the relationship between freshwater withdrawals and railway network length.\\n\\nThe candidate solution's approach deviates significantly from both reference solutions, indicating a lack of understanding of how to effectively use the available tools to address the task.\\n\\nTherefore, the candidate solution does not match any of the reference solutions.\\n |\n",
       " | match_score_LLM                  | NO_MATCH                                                                                                                                                                                                                                                                                                                                                                                                                                                                                                                                                                                                                                                                                                                                                                                                                                                                                                                                                                                                                                                                                                                                                                                                                                                                                                                                                                                                                                                                                                                                                                                                                                                                                                                                                                                                                                                                                                                                                                                                                                                                                                                                                                                                                                                                                                                                                                                                                                                                                                                                                              |\n",
       " | match_reasoning_Human            | The candidate solution matches the first reference solution. After taking some unsuccessful steps, the candidate solution produces the choropleth map of  freshwater withdrawals in Africa and map of railways in Africa. The differences in number of layes and other map parameters is non-substantial. The 'mappingkey' and 'colormaps' are the same.                                                                                                                                                                                                                                                                                                                                                                                                                                                                                                                                                                                                                                                                                                                                                                                                                                                                                                                                                                                                                                                                                                                                                                                                                                                                                                                                                                                                                                                                                                                                                                                                                                                                                                                                                                                                                                                                                                                                                                                                                                                                                                                                                                                                              |\n",
       " | match_score_Human                | MATCH                                                                                                                                                                                                                                                                                                                                                                                                                                                                                                                                                                                                                                                                                                                                                                                                                                                                                                                                                                                                                                                                                                                                                                                                                                                                                                                                                                                                                                                                                                                                                                                                                                                                                                                                                                                                                                                                                                                                                                                                                                                                                                                                                                                                                                                                                                                                                                                                                                                                                                                                                                 |]"
      ]
     },
     "execution_count": 18,
     "metadata": {},
     "output_type": "execute_result"
    }
   ],
   "source": [
    "# Select tasks with particular combination of Human and LLM score\n",
    "tasks_selected = [task for task in evaluator_tuning_tasks if task.match_score_LLM is not None and (task.match_score_Human.value, task.match_score_LLM.value)==(2, 0)]\n",
    "tasks_selected"
   ]
  },
  {
   "cell_type": "code",
   "execution_count": 17,
   "id": "c1d07b5d",
   "metadata": {},
   "outputs": [
    {
     "data": {
      "text/plain": [
       "[|                                  | Task details                                                                                                                                                                                                                                                                                                     |\n",
       " |:---------------------------------|:-----------------------------------------------------------------------------------------------------------------------------------------------------------------------------------------------------------------------------------------------------------------------------------------------------------------|\n",
       " | task_ID                          | TASK_250309_135125_530802                                                                                                                                                                                                                                                                                        |\n",
       " | task_text                        | Map agricultural GDP contribution by region.                                                                                                                                                                                                                                                                     |\n",
       " | task_labels                      | MERGE_VISUALIZE                                                                                                                                                                                                                                                                                                  |\n",
       " |                                  | TASK_SET_01                                                                                                                                                                                                                                                                                                      |\n",
       " | reference_solution_description   | None                                                                                                                                                                                                                                                                                                             |\n",
       " | reference_solutions              | 1. load_data(dataset='Agriculture, value added (% of GDP)', output_dataframe_name='agri_gdp')                                                                                                                                                                                                                    |\n",
       " |                                  | 2. load_geodata(geodataset='Countries', output_geodataframe_name='countries')                                                                                                                                                                                                                                    |\n",
       " |                                  | 3. merge_dataframes(dataframe_name='agri_gdp', geodataframe_name='countries', statkey='Country Code', geokey='WB_A3', output_dataframe_name='merged_agri') #If 'statkey' is 'Country Name', then 'geokey' should be 'NAME_EN'. If 'statkey' is 'Country Code', then 'geokey' can be either 'WB_A3' or 'ISO_A3'.  |\n",
       " |                                  | 4. make_choropleth_map(dataframe_name='merged_agri', mappingkey='2022', legendtext='Agriculture, value added (% of GDP)', colormap='Agriculture')                                                                                                                                                                |\n",
       " | generated_solution               | 1. load_data(dataset='Agriculture, value added (% of GDP)', output_dataframe_name='agri_gdp')                                                                                                                                                                                                                    |\n",
       " |                                  | 2. load_geodata(geodataset='Countries', output_geodataframe_name='countries')                                                                                                                                                                                                                                    |\n",
       " |                                  | 3. merge_dataframes(dataframe_name='agri_gdp', geodataframe_name='countries', statkey='Country Name', geokey='NAME_EN', output_dataframe_name='merged_agri')                                                                                                                                                     |\n",
       " |                                  | 4. make_choropleth_map(dataframe_name='merged_agri', mappingkey='2023', legendtext='Agriculture, value added (% of GDP)', colormap='Agriculture')                                                                                                                                                                |\n",
       " | generated_solution_input_tokens  | None                                                                                                                                                                                                                                                                                                             |\n",
       " | generated_solution_output_tokens | None                                                                                                                                                                                                                                                                                                             |\n",
       " | match_reasoning_LLM              | The candidate solution uses the same tools and datasets as the reference solution. The merge keys are different, but acceptable according to the comment in the reference solution. The year used for mapping is different (2023 vs 2022), which constitutes a partial match.\\n                                  |\n",
       " | match_score_LLM                  | PARTIAL_MATCH                                                                                                                                                                                                                                                                                                    |\n",
       " | match_reasoning_Human            |                                                                                                                                                                                                                                                                                                                  |\n",
       " | match_score_Human                | PARTIAL_MATCH                                                                                                                                                                                                                                                                                                    |]"
      ]
     },
     "execution_count": 17,
     "metadata": {},
     "output_type": "execute_result"
    }
   ],
   "source": [
    "# Select one task from the tuningv set to see the task details, reference and candidate solution and scores\n",
    "\n",
    "check = [task for task in evaluator_tuning_tasks if task.task_ID == 'TASK_250309_135125_530802']\n",
    "check"
   ]
  },
  {
   "cell_type": "markdown",
   "id": "4f34050f-ecd5-483a-9e6b-98fd3a831f59",
   "metadata": {},
   "source": [
    "### When ready, the evaluator code is used in the \"Benchmarking\" notebook."
   ]
  }
 ],
 "metadata": {
  "kernelspec": {
   "display_name": "Py310",
   "language": "python",
   "name": "python3"
  },
  "language_info": {
   "codemirror_mode": {
    "name": "ipython",
    "version": 3
   },
   "file_extension": ".py",
   "mimetype": "text/x-python",
   "name": "python",
   "nbconvert_exporter": "python",
   "pygments_lexer": "ipython3",
   "version": "3.10.16"
  }
 },
 "nbformat": 4,
 "nbformat_minor": 5
}
